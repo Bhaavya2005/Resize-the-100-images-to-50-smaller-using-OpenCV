{
  "nbformat": 4,
  "nbformat_minor": 0,
  "metadata": {
    "colab": {
      "provenance": [],
      "authorship_tag": "ABX9TyN9gaWAui1pRGfOiddmwaOW",
      "include_colab_link": true
    },
    "kernelspec": {
      "name": "python3",
      "display_name": "Python 3"
    },
    "language_info": {
      "name": "python"
    }
  },
  "cells": [
    {
      "cell_type": "markdown",
      "metadata": {
        "id": "view-in-github",
        "colab_type": "text"
      },
      "source": [
        "<a href=\"https://colab.research.google.com/github/Bhaavya2005/Resize-the-100-images-to-50-smaller-using-OpenCV/blob/main/Resize_the_100_images_to_50_(smaller)%22_using_OpenCV.ipynb\" target=\"_parent\"><img src=\"https://colab.research.google.com/assets/colab-badge.svg\" alt=\"Open In Colab\"/></a>"
      ]
    },
    {
      "cell_type": "code",
      "execution_count": null,
      "metadata": {
        "id": "KIV8CAoFCLza"
      },
      "outputs": [],
      "source": [
        "# Mini Project 16\n",
        "import cv2\n",
        "import os\n",
        "\n",
        "def resize_images(inputF, outputF, scale_perc=50):\n",
        "    # Creating an output folder if the provided one does not exist\n",
        "    if not os.path.exists(outputF):\n",
        "        os.makedirs(outputF)\n",
        "\n",
        "    # Getting file names of the images in the input folder:\n",
        "    image_files = os.listdir(inputF)\n",
        "\n",
        "    for image_file in image_files:\n",
        "        input_path = os.path.join(inputF, image_file)\n",
        "        output_path = os.path.join(outputF, image_file)\n",
        "        # Reading the image\n",
        "        image = cv2.imread(input_path)\n",
        "        # Getting the image's dimensions\n",
        "        height, width = image.shape[:2]\n",
        "\n",
        "        # Calculating the new dimensions for resizing\n",
        "        new_width = int(width * scale_perc / 100)\n",
        "        new_height = int(height * scale_perc / 100)\n",
        "\n",
        "        # Resizing the images\n",
        "        resized_image = cv2.resize(image, (new_width, new_height))\n",
        "\n",
        "        #Saving the resized images\n",
        "        cv2.imwrite(output_path, resized_image)\n",
        "\n",
        "    print(\"All the images of the input folder have been successfully resized!\")\n",
        "\n",
        "input_folder_path = 'D:\\Coding\\Python programmming\\summer_school\\images'\n",
        "output_folder_path = 'Resized_folder'\n",
        "resize_images(input_folder_path, output_folder_path, scale_perc=50)"
      ]
    }
  ]
}